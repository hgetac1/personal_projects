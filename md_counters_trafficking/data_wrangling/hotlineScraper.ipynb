{
 "cells": [
  {
   "cell_type": "code",
   "execution_count": 1,
   "metadata": {},
   "outputs": [
    {
     "name": "stdout",
     "output_type": "stream",
     "text": [
      "\n",
      "\n",
      "\n",
      "   year hotline-contacts cases-reported\n",
      "0  2019              533            187\n",
      "1  2018              437            168\n",
      "2  2017              490            121\n",
      "3  2016              594            167\n",
      "4  2015              497            122\n"
     ]
    }
   ],
   "source": [
    "import requests \n",
    "from bs4 import BeautifulSoup \n",
    "import pandas as pd \n",
    "\n",
    "url = 'https://humantraffickinghotline.org/state/maryland?qt-stats_states=0#qt-stats_states'\n",
    "\n",
    "headers = {\n",
    "    'User Agent': 'Mozilla/5.0 (Macintosh; Intel Mac OS X 10_15_5) AppleWebKit/537.36 (KHTML, like Gecko) Chrome/83.0.4103.116 Safari/537.36'\n",
    "}\n",
    "\n",
    "r = requests.get(url)\n",
    "soup = BeautifulSoup(r.content,'lxml')\n",
    "\n",
    "\n",
    "trafficking_data = []\n",
    "\n",
    "\n",
    "yearlist = soup.find_all('a', id = lambda value: value and value.startswith(\"quicktabs-tab-stats_states\"))\n",
    "contacts = soup.find_all('div', class_=\"total-calls\")\n",
    "cases_reported = soup.find_all('div', class_=\"total-cases\")\n",
    "#types = soup.find_all('div', class_=\"type\")\n",
    "types = soup.find_all('div', class_=\"view view-stats-states-cases view-id-stats_states_cases view-display-id-type view-dom-id-e6fe5d35bd09a0094a3ba23998ae8342\")\n",
    "\n",
    "for item in types: \n",
    "    for i in item.find_all('div', class_= \"view-content\"):\n",
    "        for j in i.find_all('g', class_=\"chart\"):\n",
    "            print(j.text)\n",
    "\n",
    "\n",
    "for year in yearlist: \n",
    "    year = year.text\n",
    "    year_info = {\n",
    "        'year': year\n",
    "    }\n",
    "    trafficking_data.append(year_info)\n",
    "\n",
    "    \n",
    "for contact in contacts: \n",
    "    for i in contact.find_all('div', class_=\"data\"): \n",
    "        i = i.text\n",
    "    contact_info = {\n",
    "        'hotline-contacts': i\n",
    "    }\n",
    "    trafficking_data.append(contact_info)\n",
    "    \n",
    "for cases in cases_reported: \n",
    "    for i in cases.find_all('div', class_=\"data\"): \n",
    "        i = i.text\n",
    "    cases = {\n",
    "        'cases-reported': i\n",
    "    }\n",
    "    trafficking_data.append(cases)\n",
    "        \n",
    "print(\"\\n\\n\")\n",
    "\n",
    "df = pd.DataFrame(trafficking_data)\n",
    "df = df.apply(lambda x: pd.Series(x.dropna().values))\n",
    "print(df)\n",
    "\n"
   ]
  },
  {
   "cell_type": "code",
   "execution_count": null,
   "metadata": {},
   "outputs": [],
   "source": []
  }
 ],
 "metadata": {
  "kernelspec": {
   "display_name": "Python 3",
   "language": "python",
   "name": "python3"
  },
  "language_info": {
   "codemirror_mode": {
    "name": "ipython",
    "version": 3
   },
   "file_extension": ".py",
   "mimetype": "text/x-python",
   "name": "python",
   "nbconvert_exporter": "python",
   "pygments_lexer": "ipython3",
   "version": "3.7.6"
  }
 },
 "nbformat": 4,
 "nbformat_minor": 4
}
